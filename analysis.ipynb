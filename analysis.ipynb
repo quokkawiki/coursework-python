{
 "cells": [
  {
   "cell_type": "markdown",
   "id": "cc6a0a17",
   "metadata": {},
   "source": [
    "First, we import our dependencies:"
   ]
  },
  {
   "cell_type": "code",
   "execution_count": null,
   "id": "47477dab",
   "metadata": {},
   "outputs": [],
   "source": [
    "import ipywidgets as widgets\n",
    "from IPython.display import display, clear_output\n",
    "import sqlite3 as sql\n",
    "import pandas as pd\n",
    "import os"
   ]
  },
  {
   "cell_type": "markdown",
   "id": "bffe6d91",
   "metadata": {},
   "source": [
    "Now, we connect to the database:"
   ]
  },
  {
   "cell_type": "code",
   "execution_count": null,
   "id": "9f512693",
   "metadata": {},
   "outputs": [],
   "source": [
    "conn = sql.connect('database.sqlite')\n",
    "cur = conn.cursor()"
   ]
  },
  {
   "cell_type": "markdown",
   "id": "a4fb4cc2",
   "metadata": {},
   "source": [
    "We create an interactive UI for viewing samples of the database and exporting its data:"
   ]
  },
  {
   "cell_type": "code",
   "execution_count": null,
   "id": "484e3607",
   "metadata": {
    "tags": [
     "hide-input"
    ]
   },
   "outputs": [],
   "source": [
    "def get_dataframe_from_query(query, params=None):\n",
    "    cur.execute(query, params or ())\n",
    "    rows = cur.fetchall()\n",
    "    colnames = [desc[0] for desc in cur.description]\n",
    "    return pd.DataFrame(rows, columns=colnames)\n",
    "\n",
    "def create_button(description, style=None, handler=None):\n",
    "    btn = widgets.Button(description=description)\n",
    "    if style:\n",
    "        btn.button_style = style\n",
    "    if handler:\n",
    "        btn.on_click(handler)\n",
    "    return btn\n",
    "\n",
    "def display_with_navigation(buttons, data=None):\n",
    "    clear_output(wait=True)\n",
    "    display(widgets.VBox(buttons))\n",
    "    if data is not None:\n",
    "        display(data)\n",
    "\n",
    "def export_data(df, format_type, filename):\n",
    "    export_methods = {\n",
    "        'CSV': lambda: df.to_csv(f'{filename}.csv', index=False),\n",
    "        'Excel': lambda: df.to_excel(f'{filename}.xlsx', index=False),\n",
    "        'JSON': lambda: df.to_json(f'{filename}.json', orient='records', indent=2)\n",
    "    }\n",
    "    \n",
    "    export_methods[format_type]()\n",
    "    print(f\"{format_type} export completed: {filename}.{format_type.lower()}\")\n",
    "\n",
    "def show_main_menu():\n",
    "    display_with_navigation([\n",
    "        create_button('View sample', handler=lambda b: show_sample_submenu()),\n",
    "        create_button('Export', handler=lambda b: show_export_submenu()),\n",
    "        create_button('Exit', 'danger', handler=lambda b: on_exit_clicked())\n",
    "    ])\n",
    "\n",
    "def show_category_submenu(selected_category=None):\n",
    "    # Get categories and create buttons\n",
    "    categories = [row[0] for row in get_dataframe_from_query(\"SELECT DISTINCT category FROM food_inventory ORDER BY category;\").values]\n",
    "    \n",
    "    cat_buttons = [\n",
    "        create_button(cat, handler=lambda b, category=cat: show_category_submenu(selected_category=category))\n",
    "        for cat in categories\n",
    "    ]\n",
    "    \n",
    "    return_btn = create_button('Return', 'danger', handler=lambda b: show_sample_submenu())\n",
    "    buttons = cat_buttons + [return_btn]\n",
    "    \n",
    "    data = None\n",
    "    if selected_category is not None:\n",
    "        data = get_dataframe_from_query(\n",
    "            \"SELECT * FROM food_inventory WHERE category = ?\", \n",
    "            (selected_category,)\n",
    "        )\n",
    "    \n",
    "    display_with_navigation(buttons, data)\n",
    "\n",
    "def show_sample_submenu():\n",
    "    queries = {\n",
    "        'random': (\"SELECT * FROM food_inventory ORDER BY RANDOM() LIMIT 5;\", None),\n",
    "        'expiring': (\"SELECT * FROM food_inventory WHERE days_until_expiry <= 30;\", None)\n",
    "    }\n",
    "    \n",
    "    def create_data_handler(query_key):\n",
    "        def handler(b):\n",
    "            query, params = queries[query_key]\n",
    "            df = get_dataframe_from_query(query, params)\n",
    "            buttons = [\n",
    "                create_button('View random sample', handler=create_data_handler('random')),\n",
    "                create_button('View by category', handler=lambda b: show_category_submenu()),\n",
    "                create_button('View expiring soon', handler=create_data_handler('expiring')),\n",
    "                create_button('Return', 'danger', handler=lambda b: show_main_menu())\n",
    "            ]\n",
    "            display_with_navigation(buttons, df)\n",
    "        return handler\n",
    "    \n",
    "    buttons = [\n",
    "        create_button('View random sample', handler=create_data_handler('random')),\n",
    "        create_button('View by category', handler=lambda b: show_category_submenu()),\n",
    "        create_button('View expiring soon', handler=create_data_handler('expiring')),\n",
    "        create_button('Return', 'danger', handler=lambda b: show_main_menu())\n",
    "    ]\n",
    "    \n",
    "    display_with_navigation(buttons)\n",
    "\n",
    "def show_export_submenu():\n",
    "    def create_export_handler(format_type):\n",
    "        def handler(b):\n",
    "            df = get_dataframe_from_query(\"SELECT * FROM food_inventory;\")\n",
    "            export_data(df, format_type, 'food_inventory')\n",
    "        return handler\n",
    "    \n",
    "    buttons = [\n",
    "        create_button('Export to CSV', handler=create_export_handler('CSV')),\n",
    "        create_button('Export to Excel', handler=create_export_handler('Excel')),\n",
    "        create_button('Export to JSON', handler=create_export_handler('JSON')),\n",
    "        create_button('Return', 'danger', handler=lambda b: show_main_menu())\n",
    "    ]\n",
    "    \n",
    "    display_with_navigation(buttons)\n",
    "\n",
    "def on_exit_clicked():\n",
    "    menu_box.close()\n",
    "\n",
    "# Initialize the main menu\n",
    "show_main_menu()"
   ]
  },
  {
   "cell_type": "markdown",
   "id": "567d7f77",
   "metadata": {},
   "source": [
    "> **Note:** In theory, I think the export functions should work, but I have a potato laptop that crashes everytime I try to run it, so I'm going to have to rely on trust for this ¯\\\\\\_(ツ)\\_/¯"
   ]
  },
  {
   "cell_type": "markdown",
   "id": "98432469",
   "metadata": {},
   "source": [
    "Now let's visualize the data:"
   ]
  },
  {
   "cell_type": "code",
   "execution_count": null,
   "id": "cf31d00f",
   "metadata": {},
   "outputs": [],
   "source": []
  },
  {
   "cell_type": "markdown",
   "id": "cc06b5fb",
   "metadata": {},
   "source": [
    "Finally, we close the connection to the database:"
   ]
  },
  {
   "cell_type": "code",
   "execution_count": null,
   "id": "0eb5097c",
   "metadata": {},
   "outputs": [],
   "source": [
    "conn.close()"
   ]
  }
 ],
 "metadata": {
  "kernelspec": {
   "display_name": "coursework",
   "language": "python",
   "name": "python3"
  },
  "language_info": {
   "codemirror_mode": {
    "name": "ipython",
    "version": 3
   },
   "file_extension": ".py",
   "mimetype": "text/x-python",
   "name": "python",
   "nbconvert_exporter": "python",
   "pygments_lexer": "ipython3",
   "version": "3.12.9"
  }
 },
 "nbformat": 4,
 "nbformat_minor": 5
}
