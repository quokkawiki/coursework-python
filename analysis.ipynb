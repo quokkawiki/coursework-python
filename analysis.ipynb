{
 "cells": [
  {
   "cell_type": "markdown",
   "id": "cc6a0a17",
   "metadata": {},
   "source": [
    "First, we import our dependencies:"
   ]
  },
  {
   "cell_type": "code",
   "execution_count": 1,
   "id": "47477dab",
   "metadata": {},
   "outputs": [],
   "source": [
    "import ipywidgets as widgets\n",
    "from IPython.display import display, clear_output\n",
    "import psycopg as pg\n",
    "from dotenv import load_dotenv\n",
    "import pandas as pd\n",
    "import os"
   ]
  },
  {
   "cell_type": "markdown",
   "id": "8ed5c814",
   "metadata": {},
   "source": [
    "Now we load our environment variables from `.env`"
   ]
  },
  {
   "cell_type": "code",
   "execution_count": 2,
   "id": "15676e7a",
   "metadata": {},
   "outputs": [
    {
     "data": {
      "text/plain": [
       "True"
      ]
     },
     "execution_count": 2,
     "metadata": {},
     "output_type": "execute_result"
    }
   ],
   "source": [
    "load_dotenv()"
   ]
  },
  {
   "cell_type": "markdown",
   "id": "bffe6d91",
   "metadata": {},
   "source": [
    "Now, we connect to the database:"
   ]
  },
  {
   "cell_type": "code",
   "execution_count": 3,
   "id": "9f512693",
   "metadata": {},
   "outputs": [],
   "source": [
    "# The CONNECTION_STRING is defined in the `.env` file\n",
    "user = os.getenv('DB_USER')\n",
    "password = os.getenv('DB_PASSWORD')\n",
    "host = os.getenv('DB_HOST')\n",
    "port = os.getenv('DB_PORT')\n",
    "database = os.getenv('DB_NAME')\n",
    "\n",
    "connection_string = f\"dbname='{database}' host='{host}' port={port} user='{user}' password='{password}'\"\n",
    "\n",
    "conn = pg.connect(connection_string)\n",
    "cur = conn.cursor()"
   ]
  },
  {
   "cell_type": "markdown",
   "id": "a4fb4cc2",
   "metadata": {},
   "source": [
    "We create an interactive UI for viewing samples of the database and exporting its data:"
   ]
  },
  {
   "cell_type": "code",
   "execution_count": 4,
   "id": "484e3607",
   "metadata": {},
   "outputs": [
    {
     "data": {
      "application/vnd.jupyter.widget-view+json": {
       "model_id": "c22cf0b7ee954ef7af52f17ca96f0987",
       "version_major": 2,
       "version_minor": 0
      },
      "text/plain": [
       "VBox(children=(Button(description='View sample', style=ButtonStyle()), Button(description='Export', style=Butt…"
      ]
     },
     "metadata": {},
     "output_type": "display_data"
    }
   ],
   "source": [
    "def show_main_menu():\n",
    "    clear_output(wait=True)\n",
    "    display(menu_box)\n",
    "\n",
    "def show_category_submenu(selected_category=None):\n",
    "    clear_output(wait=True)\n",
    "    cur.execute(\"SELECT DISTINCT category FROM food_inventory ORDER BY category;\")\n",
    "    categories = [row[0] for row in cur.fetchall()]\n",
    "    cat_buttons = [widgets.Button(description=cat) for cat in categories]\n",
    "    return_btn = widgets.Button(description='Return', button_style='danger')\n",
    "\n",
    "    def make_cat_handler(category):\n",
    "        def handler(b):\n",
    "            show_category_submenu(selected_category=category)\n",
    "        return handler\n",
    "\n",
    "    for btn, cat in zip(cat_buttons, categories):\n",
    "        btn.on_click(make_cat_handler(cat))\n",
    "    def on_return_clicked(b):\n",
    "        show_sample_submenu()\n",
    "    return_btn.on_click(on_return_clicked)\n",
    "    display(widgets.VBox(cat_buttons + [return_btn]))\n",
    "    # Display the DataFrame outside the widget area if a category is selected\n",
    "    if selected_category is not None:\n",
    "        cur.execute(\"SELECT * FROM food_inventory WHERE category = %s\", (selected_category,))\n",
    "        rows = cur.fetchall()\n",
    "        colnames = [desc[0] for desc in cur.description]\n",
    "        df = pd.DataFrame(rows, columns=colnames)\n",
    "        display(df)\n",
    "\n",
    "def show_sample_submenu():\n",
    "    clear_output(wait=True)\n",
    "    random_btn = widgets.Button(description='View random sample')\n",
    "    bycat_btn = widgets.Button(description='View by category')\n",
    "    expiring_btn = widgets.Button(description='View expiring soon')\n",
    "    return_btn = widgets.Button(description='Return', button_style='danger')\n",
    "\n",
    "    def on_random_clicked(b):\n",
    "        clear_output(wait=True)\n",
    "        cur.execute(\"SELECT * FROM food_inventory ORDER BY RANDOM() LIMIT 5;\")\n",
    "        rows = cur.fetchall()\n",
    "        colnames = [desc[0] for desc in cur.description]\n",
    "        df = pd.DataFrame(rows, columns=colnames)\n",
    "        display(widgets.VBox([random_btn, bycat_btn, expiring_btn, return_btn]))\n",
    "        display(df)\n",
    "\n",
    "    def on_bycat_clicked(b):\n",
    "        show_category_submenu()\n",
    "\n",
    "    def on_expiring_clicked(b):\n",
    "        clear_output(wait=True)\n",
    "        cur.execute(\"SELECT * FROM food_inventory WHERE days_until_expiry <= 30;\")\n",
    "        rows = cur.fetchall()\n",
    "        colnames = [desc[0] for desc in cur.description]\n",
    "        df = pd.DataFrame(rows, columns=colnames)\n",
    "        display(widgets.VBox([random_btn, bycat_btn, expiring_btn, return_btn]))\n",
    "        display(df)\n",
    "\n",
    "    def on_return_clicked(b):\n",
    "        show_main_menu()\n",
    "\n",
    "    random_btn.on_click(on_random_clicked)\n",
    "    bycat_btn.on_click(on_bycat_clicked)\n",
    "    expiring_btn.on_click(on_expiring_clicked)\n",
    "    return_btn.on_click(on_return_clicked)\n",
    "    submenu_box = widgets.VBox([random_btn, bycat_btn, expiring_btn, return_btn])\n",
    "    display(submenu_box)\n",
    "\n",
    "def show_export_submenu():\n",
    "    def export_csv_optimized(df):\n",
    "        print(\"Preparing CSV export (this may take several minutes)...\")\n",
    "        # Write in chunks to avoid memory issues\n",
    "        df.to_csv('food_inventory.csv', index=False, chunksize=1000000)\n",
    "\n",
    "    def on_csv_clicked(b):\n",
    "        cur.execute(\"SELECT * FROM food_inventory;\")\n",
    "        rows = cur.fetchall()\n",
    "        colnames = [desc[0] for desc in cur.description]\n",
    "        df = pd.DataFrame(rows, columns=colnames)\n",
    "        export_csv_optimized(df)\n",
    "\n",
    "    def export_excel_optimized(df):\n",
    "        print(\"Preparing Excel export (this may take several minutes)...\")\n",
    "        df.to_excel('food_inventory.xlsx', index=False, chunksize=1000000)\n",
    "\n",
    "    def on_excel_clicked(b):\n",
    "        cur.execute(\"SELECT * FROM food_inventory;\")\n",
    "        rows = cur.fetchall()\n",
    "        colnames = [desc[0] for desc in cur.description]\n",
    "        df = pd.DataFrame(rows, columns=colnames)\n",
    "        export_excel_optimized(df)\n",
    "\n",
    "    def export_json_optimized(df):\n",
    "        print(\"Preparing JSON export (this may take several minutes)...\")\n",
    "        df.to_json('food_inventory.json', index=False, chunksize=1000000)\n",
    "\n",
    "    def on_json_clicked(b):\n",
    "        cur.execute(\"SELECT * FROM food_inventory;\")\n",
    "        rows = cur.fetchall()\n",
    "        colnames = [desc[0] for desc in cur.description]\n",
    "        \n",
    "        \n",
    "    clear_output(wait=True)\n",
    "    csv_btn = widgets.Button(description='Export to CSV')\n",
    "    excel_btn = widgets.Button(description='Export to Excel')\n",
    "    json_btn = widgets.Button(description='Export to JSON')\n",
    "\n",
    "    csv_btn.on_click(on_csv_clicked)\n",
    "    excel_btn.on_click(on_excel_clicked)\n",
    "    json_btn.on_click(on_json_clicked)\n",
    "\n",
    "    return_btn = widgets.Button(description='Return', button_style='danger')\n",
    "    def on_return_clicked(b):\n",
    "        show_main_menu()\n",
    "    return_btn.on_click(on_return_clicked)\n",
    "\n",
    "    display(widgets.VBox([csv_btn, excel_btn, json_btn, return_btn]))\n",
    "\n",
    "def on_export_clicked(b):\n",
    "    show_export_submenu()\n",
    "\n",
    "def on_view_sample_clicked(b):\n",
    "    show_sample_submenu()\n",
    "\n",
    "def on_exit_clicked(b):\n",
    "    menu_box.close()\n",
    "\n",
    "view_btn = widgets.Button(description='View sample')\n",
    "export_btn = widgets.Button(description='Export')\n",
    "exit_btn = widgets.Button(description='Exit', button_style='danger')\n",
    "\n",
    "exit_btn.on_click(on_exit_clicked)\n",
    "view_btn.on_click(on_view_sample_clicked)\n",
    "export_btn.on_click(on_export_clicked)\n",
    "menu_box = widgets.VBox([view_btn, export_btn, exit_btn])\n",
    "\n",
    "show_main_menu()"
   ]
  },
  {
   "cell_type": "markdown",
   "id": "cc06b5fb",
   "metadata": {},
   "source": [
    "Finally, we close the connection to the database:"
   ]
  },
  {
   "cell_type": "code",
   "execution_count": 5,
   "id": "0eb5097c",
   "metadata": {},
   "outputs": [],
   "source": [
    "conn.close()"
   ]
  }
 ],
 "metadata": {
  "kernelspec": {
   "display_name": "coursework",
   "language": "python",
   "name": "python3"
  },
  "language_info": {
   "codemirror_mode": {
    "name": "ipython",
    "version": 3
   },
   "file_extension": ".py",
   "mimetype": "text/x-python",
   "name": "python",
   "nbconvert_exporter": "python",
   "pygments_lexer": "ipython3",
   "version": "3.12.9"
  }
 },
 "nbformat": 4,
 "nbformat_minor": 5
}
